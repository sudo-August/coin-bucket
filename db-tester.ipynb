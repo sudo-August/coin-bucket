{
 "metadata": {
  "language_info": {
   "codemirror_mode": {
    "name": "ipython",
    "version": 3
   },
   "file_extension": ".py",
   "mimetype": "text/x-python",
   "name": "python",
   "nbconvert_exporter": "python",
   "pygments_lexer": "ipython3",
   "version": "3.7.9-final"
  },
  "orig_nbformat": 2,
  "kernelspec": {
   "name": "Python 3.7.9 64-bit ('pyviz': conda)",
   "display_name": "Python 3.7.9 64-bit ('pyviz': conda)",
   "metadata": {
    "interpreter": {
     "hash": "7b2c716fdc60b83528d2d84273d04b02153ca9459445c54260c4e3551fe544ea"
    }
   }
  }
 },
 "nbformat": 4,
 "nbformat_minor": 2,
 "cells": [
  {
   "cell_type": "code",
   "execution_count": 18,
   "metadata": {},
   "outputs": [],
   "source": [
    "import os, websocket, json, psycopg2\n",
    "import pandas as pd\n",
    "from sqlalchemy import create_engine, Column, Integer, String, Float\n",
    "from pathlib import Path\n",
    "from pathlib import Path\n",
    "from sqlalchemy.sql import text\n",
    "from sqlalchemy.ext.declarative import declarative_base\n",
    "\n",
    "from dotenv import load_dotenv"
   ]
  },
  {
   "cell_type": "code",
   "execution_count": 3,
   "metadata": {},
   "outputs": [],
   "source": [
    "URL = os.getenv(\"POSTGRES_URL\")\n",
    "USER = os.getenv(\"POSTGRES_USER\")\n",
    "PWD = os.getenv(\"POSTGRES_PWD\")\n",
    "DB = os.getenv(\"POSTGRES_DB\")\n",
    "table_init = Path(\"schema.sql\")"
   ]
  },
  {
   "cell_type": "code",
   "execution_count": 15,
   "metadata": {},
   "outputs": [],
   "source": [
    "Base = declarative_base()\n",
    "eng = create_engine(f\"postgres://{USER}:{PWD}@{URL}/{DB}\")"
   ]
  },
  {
   "cell_type": "code",
   "execution_count": 16,
   "metadata": {},
   "outputs": [
    {
     "output_type": "stream",
     "name": "stdout",
     "text": [
      "DROP TABLE IF EXISTS transactions;\n\nCREATE TABLE transactions(\n\tid SERIAL NOT NULL PRIMARY KEY,\n\ttype TEXT NOT NULL, \n\tsequence INT NOT NULL, \n\tproduct_id TEXT NOT NULL, \n\tprice TEXT NOT NULL, \n\topen_24h TEXT NOT NULL, \n\tvolume_24h TEXT NOT NULL, \n\tlow_24h TEXT NOT NULL, \n\thigh_24h TEXT NOT NULL, \n\tvolume_30d TEXT NOT NULL, \n\tbest_bid TEXT NOT NULL, \n\tbest_ask TEXT NOT NULL, \n\tside TEXT NOT NULL, \n\ttime TEXT, \n\ttrade_id INT NOT NULL, \n\tlast_size TEXT NOT NULL\n);\n"
     ]
    }
   ],
   "source": [
    "with eng.connect() as con:\n",
    "    schema_sql = text(table_init.read_text())\n",
    "    print(schema_sql)\n",
    "    con.execute(schema_sql)"
   ]
  },
  {
   "cell_type": "code",
   "execution_count": 19,
   "metadata": {},
   "outputs": [],
   "source": [
    "class Transaction(Base):\n",
    "    __tablename__='transactions'\n",
    "\n",
    "    id = Column(Integer, primary_key=True)\n",
    "    type = Column(String)\n",
    "    sequence = Column(Integer)\n",
    "    product_id = Column(String)\n",
    "    price = Column(String)\n",
    "    open_24h = Column(String)\n",
    "    volume_24h = Column(String)\n",
    "    low_24h = Column(String)\n",
    "    high_24h = Column(String)\n",
    "    volume_30d = Column(String)\n",
    "    best_bid = Column(String)\n",
    "    best_ask = Column(String)\n",
    "    side = Column(String)\n",
    "    time = Column(String)\n",
    "    trade_id = Column(Integer)\n",
    "    last_size = Column(String)\n",
    "\n",
    "    def __repr__(self):\n",
    "        return \"<Transaction(type='%s', sequence='%d', product_id='%s', price='%s', open_24h='%s', volume_24h='%s', low_24h='%s', high_24h='%s', volume_30d='%s', best_bid='%s', best_ask='%s', side='%s', time='%s', trade_id='%d', last_size='%s')>\" % (\n",
    "            self.type, self.sequence, self.product_id, self.price, self.open_24h, self.volume_24h, self.low_24h, self.high_24h, self.volume_30d, self.best_bid, self.best_ask, self.side, self.time, self.trade_id, self.last_size\n",
    "        )\n"
   ]
  },
  {
   "cell_type": "code",
   "execution_count": 20,
   "metadata": {},
   "outputs": [],
   "source": [
    "def on_open(ws):\n",
    "    print(\"opened connection\")\n",
    "\n",
    "    subscribe_message = {\n",
    "        \"type\": \"subscribe\",\n",
    "        \"channels\": [\n",
    "            {\n",
    "                \"name\": \"ticker\",\n",
    "                \"product_ids\": [\n",
    "                    \"BTC-USD\",\n",
    "                    \"XRP-USD\",\n",
    "                    \"ETH-USD\"\n",
    "                ]\n",
    "            }\n",
    "        ]\n",
    "    }\n",
    "\n",
    "    ws.send(json.dumps(subscribe_message))\n",
    "\n",
    "def on_message(ws, message):\n",
    "    tick = json.loads(message)\n",
    "    insert = \"INSERT INTO transactions () VALUES \"\n",
    "    print(tick)\n",
    "\n",
    "socket = \"wss://ws-feed.pro.coinbase.com\"\n",
    "ws = websocket.WebSocketApp(socket, on_open=on_open, on_message=on_message)"
   ]
  },
  {
   "cell_type": "code",
   "execution_count": 10,
   "metadata": {},
   "outputs": [
    {
     "output_type": "stream",
     "name": "stdout",
     "text": [
      "opened connection\n",
      "{'type': 'subscriptions', 'channels': [{'name': 'ticker', 'product_ids': ['BTC-USD', 'XRP-USD', 'ETH-USD']}]}\n",
      "{'type': 'ticker', 'sequence': 17261813719, 'product_id': 'BTC-USD', 'price': '13914.5', 'open_24h': '13540', 'volume_24h': '13925.60467460', 'low_24h': '13290', 'high_24h': '14081.45', 'volume_30d': '334316.01675994', 'best_bid': '13914.49', 'best_ask': '13914.50', 'side': 'buy', 'time': '2020-11-04T00:56:01.971291Z', 'trade_id': 107662706, 'last_size': '0.01426468'}\n",
      "{'type': 'ticker', 'sequence': 1420871054, 'product_id': 'XRP-USD', 'price': '0.2391', 'open_24h': '0.2356', 'volume_24h': '52052806.37207200', 'low_24h': '0.2283', 'high_24h': '0.2442', 'volume_30d': '1096077389.07411400', 'best_bid': '0.2389', 'best_ask': '0.2391', 'side': 'buy', 'time': '2020-11-04T00:56:02.574218Z', 'trade_id': 14332184, 'last_size': '1166.28698'}\n",
      "{'type': 'ticker', 'sequence': 10988727087, 'product_id': 'ETH-USD', 'price': '385.92', 'open_24h': '384.05', 'volume_24h': '104369.49238977', 'low_24h': '370.5', 'high_24h': '390.35', 'volume_30d': '2887468.19559137', 'best_bid': '385.92', 'best_ask': '385.93', 'side': 'sell', 'time': '2020-11-04T00:56:02.860157Z', 'trade_id': 66153308, 'last_size': '0.06289185'}\n",
      "{'type': 'ticker', 'sequence': 17261815671, 'product_id': 'BTC-USD', 'price': '13911.49', 'open_24h': '13540', 'volume_24h': '13925.61362618', 'low_24h': '13290', 'high_24h': '14081.45', 'volume_30d': '334316.02571152', 'best_bid': '13911.49', 'best_ask': '13912.71', 'side': 'sell', 'time': '2020-11-04T00:56:06.573302Z', 'trade_id': 107662707, 'last_size': '0.00895158'}\n",
      "{'type': 'ticker', 'sequence': 10988728318, 'product_id': 'ETH-USD', 'price': '385.97', 'open_24h': '384.05', 'volume_24h': '104369.50566242', 'low_24h': '370.5', 'high_24h': '390.35', 'volume_30d': '2887468.20886402', 'best_bid': '385.96', 'best_ask': '385.97', 'side': 'buy', 'time': '2020-11-04T00:56:07.027654Z', 'trade_id': 66153309, 'last_size': '0.01327265'}\n",
      "{'type': 'ticker', 'sequence': 1420871233, 'product_id': 'XRP-USD', 'price': '0.2391', 'open_24h': '0.2356', 'volume_24h': '52053222.22012000', 'low_24h': '0.2283', 'high_24h': '0.2442', 'volume_30d': '1096077804.92216200', 'best_bid': '0.2389', 'best_ask': '0.2391', 'side': 'buy', 'time': '2020-11-04T00:56:07.040115Z', 'trade_id': 14332185, 'last_size': '415.848048'}\n",
      "{'type': 'ticker', 'sequence': 17261816284, 'product_id': 'BTC-USD', 'price': '13909.83', 'open_24h': '13540', 'volume_24h': '13925.62793849', 'low_24h': '13290', 'high_24h': '14081.45', 'volume_30d': '334316.04002383', 'best_bid': '13909.82', 'best_ask': '13909.83', 'side': 'buy', 'time': '2020-11-04T00:56:07.253697Z', 'trade_id': 107662708, 'last_size': '0.01431231'}\n",
      "{'type': 'ticker', 'sequence': 10988728367, 'product_id': 'ETH-USD', 'price': '385.97', 'open_24h': '384.05', 'volume_24h': '104369.52085841', 'low_24h': '370.5', 'high_24h': '390.35', 'volume_30d': '2887468.22406001', 'best_bid': '385.96', 'best_ask': '385.97', 'side': 'buy', 'time': '2020-11-04T00:56:07.276524Z', 'trade_id': 66153310, 'last_size': '0.01519599'}\n",
      "{'type': 'ticker', 'sequence': 10988728492, 'product_id': 'ETH-USD', 'price': '385.97', 'open_24h': '384.05', 'volume_24h': '104369.68695103', 'low_24h': '370.5', 'high_24h': '390.35', 'volume_30d': '2887468.39015263', 'best_bid': '385.96', 'best_ask': '385.97', 'side': 'buy', 'time': '2020-11-04T00:56:07.891417Z', 'trade_id': 66153311, 'last_size': '0.16609262'}\n",
      "{'type': 'ticker', 'sequence': 10988728494, 'product_id': 'ETH-USD', 'price': '385.97', 'open_24h': '384.05', 'volume_24h': '104370.52085841', 'low_24h': '370.5', 'high_24h': '390.35', 'volume_30d': '2887469.22406001', 'best_bid': '385.96', 'best_ask': '385.97', 'side': 'buy', 'time': '2020-11-04T00:56:07.891417Z', 'trade_id': 66153312, 'last_size': '0.83390738'}\n"
     ]
    },
    {
     "output_type": "execute_result",
     "data": {
      "text/plain": [
       "False"
      ]
     },
     "metadata": {},
     "execution_count": 10
    }
   ],
   "source": [
    "ws.run_forever()"
   ]
  },
  {
   "cell_type": "code",
   "execution_count": null,
   "metadata": {},
   "outputs": [],
   "source": []
  }
 ]
}